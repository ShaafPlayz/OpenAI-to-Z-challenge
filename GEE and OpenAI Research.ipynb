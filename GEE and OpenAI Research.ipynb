{
 "cells": [
  {
   "cell_type": "code",
   "execution_count": 41,
   "id": "1778a5c4-334d-4f08-ae23-6dbdc108d324",
   "metadata": {},
   "outputs": [
    {
     "data": {
      "text/html": [
       "\n",
       "            <style>\n",
       "                .geemap-dark {\n",
       "                    --jp-widgets-color: white;\n",
       "                    --jp-widgets-label-color: white;\n",
       "                    --jp-ui-font-color1: white;\n",
       "                    --jp-layout-color2: #454545;\n",
       "                    background-color: #383838;\n",
       "                }\n",
       "\n",
       "                .geemap-dark .jupyter-button {\n",
       "                    --jp-layout-color3: #383838;\n",
       "                }\n",
       "\n",
       "                .geemap-colab {\n",
       "                    background-color: var(--colab-primary-surface-color, white);\n",
       "                }\n",
       "\n",
       "                .geemap-colab .jupyter-button {\n",
       "                    --jp-layout-color3: var(--colab-primary-surface-color, white);\n",
       "                }\n",
       "            </style>\n",
       "            "
      ],
      "text/plain": [
       "<IPython.core.display.HTML object>"
      ]
     },
     "metadata": {},
     "output_type": "display_data"
    }
   ],
   "source": [
    "import ee\n",
    "import geemap\n",
    "import os\n",
    "import dotenv\n",
    "import base64\n",
    "import textwrap\n",
    "from PIL import Image\n",
    "import numpy as np\n",
    "from openai import OpenAI\n",
    "import requests\n",
    "import h5py\n",
    "import os\n",
    "import folium\n",
    "from IPython.display import display\n",
    "from shapely.geometry import Point"
   ]
  },
  {
   "cell_type": "markdown",
   "id": "7a8e32f4",
   "metadata": {},
   "source": [
    "# Code Relevant to Google Earth Engine"
   ]
  },
  {
   "cell_type": "code",
   "execution_count": 93,
   "id": "40df251a-0873-4401-8d00-47446c2c743c",
   "metadata": {},
   "outputs": [
    {
     "data": {
      "text/html": [
       "\n",
       "            <style>\n",
       "                .geemap-dark {\n",
       "                    --jp-widgets-color: white;\n",
       "                    --jp-widgets-label-color: white;\n",
       "                    --jp-ui-font-color1: white;\n",
       "                    --jp-layout-color2: #454545;\n",
       "                    background-color: #383838;\n",
       "                }\n",
       "\n",
       "                .geemap-dark .jupyter-button {\n",
       "                    --jp-layout-color3: #383838;\n",
       "                }\n",
       "\n",
       "                .geemap-colab {\n",
       "                    background-color: var(--colab-primary-surface-color, white);\n",
       "                }\n",
       "\n",
       "                .geemap-colab .jupyter-button {\n",
       "                    --jp-layout-color3: var(--colab-primary-surface-color, white);\n",
       "                }\n",
       "            </style>\n",
       "            "
      ],
      "text/plain": [
       "<IPython.core.display.HTML object>"
      ]
     },
     "metadata": {},
     "output_type": "display_data"
    }
   ],
   "source": [
    "# Google Earth Engine\n",
    "ee.Authenticate()\n",
    "ee.Initialize(project='iconic-guard-454717-v9')\n",
    "\n",
    "# Get Data from Google Earth Engine\n",
    "def getSatImageryGEE(c1, c2):\n",
    "    location = ee.Geometry.Point([c2 , c1])\n",
    "    region = location.buffer(7000) \n",
    "    dataset = 'COPERNICUS/S2_SR_HARMONIZED'\n",
    "    image = ee.ImageCollection(dataset) \\\n",
    "                .filterBounds(region) \\\n",
    "                .filterDate('2023-06-01', '2024-06-30') \\\n",
    "                .sort('CLOUDY_PIXEL_PERCENTAGE') \\\n",
    "                .first() \\\n",
    "                .select(['B4', 'B3', 'B2'])  # RGB bands\n",
    "\n",
    "    return image, region\n",
    "\n",
    "# Download the Data parsed from GEE\n",
    "def downloadSatIGEE(c1, c2):\n",
    "    image, region = getSatImageryGEE(c1, c2)\n",
    "    geemap.ee_export_image(\n",
    "        image, filename='satimagery/sentinel_rgb.tif', scale=10, region=region\n",
    "        # Scale = 10m\n",
    "    )\n",
    "\n",
    "# Convert tif -> jpg\n",
    "def GEE_to_brightJPG():\n",
    "    img = Image.open(\"satimagery/sentinel_rgb.tif\")\n",
    "\n",
    "    # Convert to RGB and normalize brightness\n",
    "    img = img.convert(\"RGB\")\n",
    "\n",
    "    # Enhance brightness slightly (optional)\n",
    "    img = Image.eval(img, lambda x: x * 50)  # brighten by factor of 2\n",
    "\n",
    "    # Save as JPEG\n",
    "    img.save(\"satimagery/sentinel_rgb.jpg\", \"JPEG\")\n",
    "    print(\"Image Converted to JPG.\")\n",
    "\n",
    "# Encode the image because apparently gpt can't accept it otherwise\n",
    "def prepareJPG_forOpenAI():\n",
    "    with open(\"satimagery/sentinel_rgb.jpg\", \"rb\") as f:\n",
    "        base64_image = base64.b64encode(f.read()).decode(\"utf-8\")\n",
    "\n",
    "    # Format for OpenAI model\n",
    "    image_content = {\n",
    "        \"type\": \"image_url\",\n",
    "        \"image_url\": {\n",
    "            \"url\": f\"data:image/jpeg;base64,{base64_image}\"\n",
    "        }\n",
    "    }\n",
    "    return image_content\n",
    "\n",
    "# Download + Convert + PrepForOpenAI\n",
    "def getGEEImagery(c1, c2):\n",
    "    downloadSatIGEE(c1, c2)\n",
    "    GEE_to_brightJPG()\n",
    "    ex = prepareJPG_forOpenAI()\n",
    "    \n",
    "    print(\"Image Prepared for OpenAI export.\")\n",
    "    return ex"
   ]
  },
  {
   "cell_type": "markdown",
   "id": "564e95c9",
   "metadata": {},
   "source": [
    "# Code Relevant to OpenAI"
   ]
  },
  {
   "cell_type": "code",
   "execution_count": 163,
   "id": "4e45ac56-fd22-44d3-9dfc-463aeeaf1503",
   "metadata": {},
   "outputs": [
    {
     "data": {
      "text/html": [
       "\n",
       "            <style>\n",
       "                .geemap-dark {\n",
       "                    --jp-widgets-color: white;\n",
       "                    --jp-widgets-label-color: white;\n",
       "                    --jp-ui-font-color1: white;\n",
       "                    --jp-layout-color2: #454545;\n",
       "                    background-color: #383838;\n",
       "                }\n",
       "\n",
       "                .geemap-dark .jupyter-button {\n",
       "                    --jp-layout-color3: #383838;\n",
       "                }\n",
       "\n",
       "                .geemap-colab {\n",
       "                    background-color: var(--colab-primary-surface-color, white);\n",
       "                }\n",
       "\n",
       "                .geemap-colab .jupyter-button {\n",
       "                    --jp-layout-color3: var(--colab-primary-surface-color, white);\n",
       "                }\n",
       "            </style>\n",
       "            "
      ],
      "text/plain": [
       "<IPython.core.display.HTML object>"
      ]
     },
     "metadata": {},
     "output_type": "display_data"
    }
   ],
   "source": [
    "# OpenAI\n",
    "dotenv.load_dotenv()\n",
    "\n",
    "if not os.getenv(\"GITHUB_TOKEN\"):\n",
    "    raise ValueError(\"GITHUB_TOKEN is not set\")\n",
    "\n",
    "os.environ[\"OPENAI_API_KEY\"] = os.getenv(\"GITHUB_TOKEN\")\n",
    "os.environ[\"OPENAI_BASE_URL\"] = \"https://models.github.ai/inference\"\n",
    "\n",
    "model = \"openai/gpt-4.1\" # or \"openai/gpt-4o\"\n",
    "client = OpenAI()\n",
    "\n",
    "# Sending Prompt + Image to OpenAI Model\n",
    "def promptModel(p, i):\n",
    "    modeloutput = client.chat.completions.create(\n",
    "        messages=[\n",
    "            {\"role\": \"system\", \"content\": \"You're a geospatial analyst.\"},\n",
    "            {\n",
    "                \"role\": \"user\",\n",
    "                \"content\": [\n",
    "                    {\"type\": \"text\", \"text\": p},\n",
    "                    i\n",
    "                ]\n",
    "            }\n",
    "        ],\n",
    "        temperature=1.0,\n",
    "        top_p=1.0,\n",
    "        model=model\n",
    "    )\n",
    "    return modeloutput\n",
    "\n",
    "# Sending Prompt to OpenAI Model\n",
    "def promptONLY(p):\n",
    "    modeloutput = client.chat.completions.create(\n",
    "        model=model,\n",
    "        messages=[\n",
    "            {\"role\": \"system\", \"content\": \"You're a geospatial analyst.\"},\n",
    "            {\"role\": \"user\", \"content\": p}\n",
    "        ],\n",
    "        temperature=1.0,\n",
    "        top_p=1.0,\n",
    "    )\n",
    "    return modeloutput\n",
    "\n",
    "\n",
    "# Printing Data\n",
    "def printoutput(r):\n",
    "    print(\"\\n\")\n",
    "    print(f\"OpenAI Model: {model}\")\n",
    "    print(f\"Dataset ID: {dataset} \\n\")\n",
    "    print(\"Model Response:\")\n",
    "    content = r.choices[0].message.content\n",
    "    sections = content.split('*')\n",
    "    for section in sections:\n",
    "        print(section.strip())\n",
    "\n",
    "\n",
    "# Prompt OpenAI Model + Attach Image\n",
    "def promptGPT(c1, c2, p, option):\n",
    "    if option == 1:\n",
    "        imagePreped = getGEEImagery(c1, c2)\n",
    "        return promptModel(p, imagePreped)\n",
    "    elif option == 2:\n",
    "        return promptONLY(p)"
   ]
  },
  {
   "cell_type": "markdown",
   "id": "d377af68",
   "metadata": {},
   "source": [
    "# External DataSets I found\n",
    "appEEARS_AmazonRainforest = \"https://appeears.earthdatacloud.nasa.gov/download/1a6f2238-d420-498e-9bd7-6340ed3268ed\""
   ]
  },
  {
   "cell_type": "code",
   "execution_count": 94,
   "id": "5345e034",
   "metadata": {},
   "outputs": [
    {
     "data": {
      "text/html": [
       "\n",
       "            <style>\n",
       "                .geemap-dark {\n",
       "                    --jp-widgets-color: white;\n",
       "                    --jp-widgets-label-color: white;\n",
       "                    --jp-ui-font-color1: white;\n",
       "                    --jp-layout-color2: #454545;\n",
       "                    background-color: #383838;\n",
       "                }\n",
       "\n",
       "                .geemap-dark .jupyter-button {\n",
       "                    --jp-layout-color3: #383838;\n",
       "                }\n",
       "\n",
       "                .geemap-colab {\n",
       "                    background-color: var(--colab-primary-surface-color, white);\n",
       "                }\n",
       "\n",
       "                .geemap-colab .jupyter-button {\n",
       "                    --jp-layout-color3: var(--colab-primary-surface-color, white);\n",
       "                }\n",
       "            </style>\n",
       "            "
      ],
      "text/plain": [
       "<IPython.core.display.HTML object>"
      ]
     },
     "metadata": {},
     "output_type": "display_data"
    },
    {
     "name": "stdout",
     "output_type": "stream",
     "text": [
      "Generating URL ...\n",
      "Downloading data from https://earthengine.googleapis.com/v1/projects/iconic-guard-454717-v9/thumbnails/bf7d6899f7ac61b8f93a115b04da9920-c48f3542741b58f2e3b398c50f3b87a8:getPixels\n",
      "Please wait ...\n",
      "Data downloaded to c:\\Users\\shaaf\\OneDrive\\Desktop\\Shaaf Media\\Coding\\GitHub Files\\OpenAI-to-Z-challenge\\satimagery\\sentinel_rgb.tif\n",
      "Image Converted to JPG.\n",
      "Image Prepared for OpenAI export.\n"
     ]
    }
   ],
   "source": [
    "X = -3.314660\n",
    "Y = -61.355873\n",
    "\n",
    "A = getGEEImagery(X, Y)"
   ]
  },
  {
   "cell_type": "code",
   "execution_count": 125,
   "id": "22dbc41e-585c-40fc-87ba-809a8bf9df8c",
   "metadata": {},
   "outputs": [
    {
     "data": {
      "text/html": [
       "\n",
       "            <style>\n",
       "                .geemap-dark {\n",
       "                    --jp-widgets-color: white;\n",
       "                    --jp-widgets-label-color: white;\n",
       "                    --jp-ui-font-color1: white;\n",
       "                    --jp-layout-color2: #454545;\n",
       "                    background-color: #383838;\n",
       "                }\n",
       "\n",
       "                .geemap-dark .jupyter-button {\n",
       "                    --jp-layout-color3: #383838;\n",
       "                }\n",
       "\n",
       "                .geemap-colab {\n",
       "                    background-color: var(--colab-primary-surface-color, white);\n",
       "                }\n",
       "\n",
       "                .geemap-colab .jupyter-button {\n",
       "                    --jp-layout-color3: var(--colab-primary-surface-color, white);\n",
       "                }\n",
       "            </style>\n",
       "            "
      ],
      "text/plain": [
       "<IPython.core.display.HTML object>"
      ]
     },
     "metadata": {},
     "output_type": "display_data"
    },
    {
     "name": "stdout",
     "output_type": "stream",
     "text": [
      "Generating URL ...\n",
      "Downloading data from https://earthengine.googleapis.com/v1/projects/iconic-guard-454717-v9/thumbnails/bf7d6899f7ac61b8f93a115b04da9920-3cccb3e81743fc02fec2ac1934e8b7fd:getPixels\n",
      "Please wait ...\n",
      "Data downloaded to c:\\Users\\shaaf\\OneDrive\\Desktop\\Shaaf Media\\Coding\\GitHub Files\\OpenAI-to-Z-challenge\\satimagery\\sentinel_rgb.tif\n",
      "Image Converted to JPG.\n",
      "Image Prepared for OpenAI export.\n",
      "\n",
      "\n",
      "OpenAI Model: openai/gpt-4.1\n",
      "Dataset ID: COPERNICUS/S2_SR_HARMONIZED \n",
      "\n",
      "Model Response:\n",
      "This satellite image shows a large, mostly continuous area of dense green\n",
      "vegetation, likely representing a forest or jungle. There are small,\n",
      "irregularly-shaped lighter green and brown patches scattered throughout, which\n",
      "are likely clearings or areas where vegetation has been removed, possibly for\n",
      "agriculture or small settlements. Toward the right side of the image, there are\n",
      "areas with more visible variation in color and texture, indicating uneven\n",
      "terrain, possibly hills or ridges. There are also a few linear features that\n",
      "could be roads or tracks cutting through the forest. Overall, the landscape\n",
      "appears to be natural and heavily forested, with some small signs of human\n",
      "activity or land clearing.\n"
     ]
    }
   ],
   "source": [
    "# Coordinates for Manaus, Brazil (Amazon Rainforest)\n",
    "\n",
    "prompt = \"Describe surface features in plain English based on this satellite image.\"\n",
    "\n",
    "printoutput(promptGPT(X, Y, prompt, 1))"
   ]
  },
  {
   "cell_type": "code",
   "execution_count": 108,
   "id": "5f60773e",
   "metadata": {},
   "outputs": [
    {
     "data": {
      "text/html": [
       "\n",
       "            <style>\n",
       "                .geemap-dark {\n",
       "                    --jp-widgets-color: white;\n",
       "                    --jp-widgets-label-color: white;\n",
       "                    --jp-ui-font-color1: white;\n",
       "                    --jp-layout-color2: #454545;\n",
       "                    background-color: #383838;\n",
       "                }\n",
       "\n",
       "                .geemap-dark .jupyter-button {\n",
       "                    --jp-layout-color3: #383838;\n",
       "                }\n",
       "\n",
       "                .geemap-colab {\n",
       "                    background-color: var(--colab-primary-surface-color, white);\n",
       "                }\n",
       "\n",
       "                .geemap-colab .jupyter-button {\n",
       "                    --jp-layout-color3: var(--colab-primary-surface-color, white);\n",
       "                }\n",
       "            </style>\n",
       "            "
      ],
      "text/plain": [
       "<IPython.core.display.HTML object>"
      ]
     },
     "metadata": {},
     "output_type": "display_data"
    },
    {
     "name": "stdout",
     "output_type": "stream",
     "text": [
      "Counter({10: 3229248, 255: 1422346, 3: 69843, 20: 16631, 30: 11977, 9: 563, 40: 200, 1: 4})\n"
     ]
    }
   ],
   "source": [
    "# We now begin visualizing the second Dataset\n",
    "\n",
    "from collections import Counter\n",
    "import rasterio\n",
    "\n",
    "with rasterio.open(\"AppEEARS/MCD12Q1.061_LC_Prop2_doy2020001_aid0001.tif\") as src:\n",
    "    data = src.read(1)\n",
    "\n",
    "counts = Counter(data.flatten())\n",
    "print(counts)\n",
    "\n"
   ]
  },
  {
   "cell_type": "code",
   "execution_count": 111,
   "id": "90b20e4f",
   "metadata": {},
   "outputs": [
    {
     "data": {
      "text/html": [
       "\n",
       "            <style>\n",
       "                .geemap-dark {\n",
       "                    --jp-widgets-color: white;\n",
       "                    --jp-widgets-label-color: white;\n",
       "                    --jp-ui-font-color1: white;\n",
       "                    --jp-layout-color2: #454545;\n",
       "                    background-color: #383838;\n",
       "                }\n",
       "\n",
       "                .geemap-dark .jupyter-button {\n",
       "                    --jp-layout-color3: #383838;\n",
       "                }\n",
       "\n",
       "                .geemap-colab {\n",
       "                    background-color: var(--colab-primary-surface-color, white);\n",
       "                }\n",
       "\n",
       "                .geemap-colab .jupyter-button {\n",
       "                    --jp-layout-color3: var(--colab-primary-surface-color, white);\n",
       "                }\n",
       "            </style>\n",
       "            "
      ],
      "text/plain": [
       "<IPython.core.display.HTML object>"
      ]
     },
     "metadata": {},
     "output_type": "display_data"
    },
    {
     "name": "stdout",
     "output_type": "stream",
     "text": [
      "No Data (Class 255): 1422346 pixels\n",
      "Urban Areas (Class 10): 3229248 pixels\n",
      "Deciduous Needleleaf Trees (Class 3): 69843 pixels\n",
      "Unknown (Class 30): 11977 pixels\n",
      "Unknown (Class 20): 16631 pixels\n",
      "Unknown (Class 40): 200 pixels\n",
      "Flooded Vegetation (Class 9): 563 pixels\n",
      "Evergreen Needleleaf Trees (Class 1): 4 pixels\n"
     ]
    }
   ],
   "source": [
    "# Readable Text\n",
    "modis_pft_classes = {\n",
    "    1: \"Evergreen Needleleaf Trees\",\n",
    "    3: \"Deciduous Needleleaf Trees\",\n",
    "    9: \"Flooded Vegetation\",\n",
    "    10: \"Urban Areas\",\n",
    "    20: \"Unknown\",\n",
    "    30: \"Unknown\",\n",
    "    40: \"Unknown\",\n",
    "    255: \"No Data\"\n",
    "}\n",
    "\n",
    "summary = []\n",
    "for code, count in counts.items():\n",
    "    label = modis_pft_classes.get(code, \"Unknown\")\n",
    "    summary.append(f\"{label} (Class {code}): {count} pixels\")\n",
    "\n",
    "report_text = \"\\n\".join(summary)\n",
    "print(report_text)\n"
   ]
  },
  {
   "cell_type": "code",
   "execution_count": 166,
   "id": "03bde518",
   "metadata": {},
   "outputs": [
    {
     "data": {
      "text/html": [
       "\n",
       "            <style>\n",
       "                .geemap-dark {\n",
       "                    --jp-widgets-color: white;\n",
       "                    --jp-widgets-label-color: white;\n",
       "                    --jp-ui-font-color1: white;\n",
       "                    --jp-layout-color2: #454545;\n",
       "                    background-color: #383838;\n",
       "                }\n",
       "\n",
       "                .geemap-dark .jupyter-button {\n",
       "                    --jp-layout-color3: #383838;\n",
       "                }\n",
       "\n",
       "                .geemap-colab {\n",
       "                    background-color: var(--colab-primary-surface-color, white);\n",
       "                }\n",
       "\n",
       "                .geemap-colab .jupyter-button {\n",
       "                    --jp-layout-color3: var(--colab-primary-surface-color, white);\n",
       "                }\n",
       "            </style>\n",
       "            "
      ],
      "text/plain": [
       "<IPython.core.display.HTML object>"
      ]
     },
     "metadata": {},
     "output_type": "display_data"
    },
    {
     "name": "stdout",
     "output_type": "stream",
     "text": [
      "\n",
      "\n",
      "OpenAI Model: openai/gpt-4.1\n",
      "Dataset ID: COPERNICUS/S2_SR_HARMONIZED \n",
      "\n",
      "Model Response:\n",
      "\n",
      "# MODIS Land Cover Pixel Counts Summary\n",
      "| Land Cover Class                     | Class Code | Pixel Count |\n",
      "|--------------------------------------|------------|-------------|\n",
      "| No Data                              | 255        | 1,422,346   |\n",
      "| Urban Areas                          | 10         | 3,229,248   |\n",
      "| Deciduous Needleleaf Trees           | 3          | 69,843      |\n",
      "| Unknown                              | 30         | 11,977      |\n",
      "| Unknown                              | 20         | 16,631      |\n",
      "| Unknown                              | 40         | 200         |\n",
      "| Flooded Vegetation                   | 9          | 563         |\n",
      "| Evergreen Needleleaf Trees           | 1          | 4           |\n",
      "## Key Insights\n",
      "- Urban Areas (Class 10) overwhelmingly dominate the pixel\n",
      "count in this dataset.\n",
      "\n",
      "- More than 1.4 million pixels are marked as No Data, indicating substantial data gaps.\n",
      "\n",
      "- Three 'Unknown' classes collectively make up a notable count\n",
      "compared to some defined vegetated classes.\n",
      "\n",
      "- Deciduous Needleleaf Trees contribute more than 69,000 pixels, while Evergreen Needleleaf\n",
      "Trees are nearly absent.\n",
      "\n",
      "- Flooded Vegetation is present but at a minimally detectable level.\n",
      "\n",
      "## Interpretation\n",
      "The MODIS land cover dataset presented here is heavily urbanized, with urban\n",
      "areas accounting for the highest pixel count by a significant margin.\n",
      "This dominance suggests the study region may be centered around a\n",
      "metropolitan or developed area, or that urban environments are overrepresented\n",
      "in this dataset.\n",
      "The prevalence of 'No Data' pixels is substantial, highlighting\n",
      "gaps that could affect downstream analyses or require closer investigation.\n",
      "Meanwhile, non-urban vegetative classes, particularly Deciduous Needleleaf Trees,\n",
      "are present, but other classes—like Evergreen Needleleaf Trees and Flooded Vegetation—are nearly absent.\n",
      "The high number of 'Unknown' classifications may warrant further classification refinement or validation to improve dataset utility.\n",
      "\n"
     ]
    }
   ],
   "source": [
    "prompt2 = f\"\"\"You are a geospatial analyst. Given the following MODIS land cover pixel counts (PFT classes), create a **concise, well-formatted markdown report** with:\n",
    "\n",
    "- A clean summary table with headers\n",
    "- Bullet-pointed key insights\n",
    "- A short paragraph interpretation (add a * after every 10 words)\n",
    "- Add in a * everytime a new line starts\n",
    "\n",
    "\n",
    "Here is the Data: \n",
    "{report_text}\n",
    "\"\"\"\n",
    "\n",
    "printoutput(promptGPT(0, 0, prompt2, 2))"
   ]
  },
  {
   "cell_type": "code",
   "execution_count": null,
   "id": "b61d71da",
   "metadata": {},
   "outputs": [
    {
     "data": {
      "text/html": [
       "\n",
       "            <style>\n",
       "                .geemap-dark {\n",
       "                    --jp-widgets-color: white;\n",
       "                    --jp-widgets-label-color: white;\n",
       "                    --jp-ui-font-color1: white;\n",
       "                    --jp-layout-color2: #454545;\n",
       "                    background-color: #383838;\n",
       "                }\n",
       "\n",
       "                .geemap-dark .jupyter-button {\n",
       "                    --jp-layout-color3: #383838;\n",
       "                }\n",
       "\n",
       "                .geemap-colab {\n",
       "                    background-color: var(--colab-primary-surface-color, white);\n",
       "                }\n",
       "\n",
       "                .geemap-colab .jupyter-button {\n",
       "                    --jp-layout-color3: var(--colab-primary-surface-color, white);\n",
       "                }\n",
       "            </style>\n",
       "            "
      ],
      "text/plain": [
       "<IPython.core.display.HTML object>"
      ]
     },
     "metadata": {},
     "output_type": "display_data"
    }
   ],
   "source": [
    "\n"
   ]
  },
  {
   "cell_type": "code",
   "execution_count": null,
   "id": "23b16e50",
   "metadata": {},
   "outputs": [],
   "source": []
  }
 ],
 "metadata": {
  "kernelspec": {
   "display_name": "base",
   "language": "python",
   "name": "python3"
  },
  "language_info": {
   "codemirror_mode": {
    "name": "ipython",
    "version": 3
   },
   "file_extension": ".py",
   "mimetype": "text/x-python",
   "name": "python",
   "nbconvert_exporter": "python",
   "pygments_lexer": "ipython3",
   "version": "3.12.4"
  }
 },
 "nbformat": 4,
 "nbformat_minor": 5
}
